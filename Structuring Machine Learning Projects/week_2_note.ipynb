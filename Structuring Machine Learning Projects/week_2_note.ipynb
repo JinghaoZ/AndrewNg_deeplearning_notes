{
 "cells": [
  {
   "cell_type": "markdown",
   "metadata": {},
   "source": [
    "### Error Analysis"
   ]
  },
  {
   "cell_type": "markdown",
   "metadata": {},
   "source": [
    "1. error analysis\n",
    "    * 假设一个模型精度90% 采样发现出错在将狗误分类为猫\n",
    "        1. 采样多次\n",
    "        2. 计算这种错误的比例\n",
    "        3. 如果这部分比例较大，可以设计一个分类狗和猫的模型，否则这么做对性能提升有限\n",
    "        4. 分析错误的类型有助于确认优化每部分的性能提升上限"
   ]
  },
  {
   "cell_type": "markdown",
   "metadata": {},
   "source": [
    "2. 错误标签修正mislabeled example\n",
    "    1. 训练集的错误标签\n",
    "        * 如果是随机误差或者类随机误差，可以视作无影响\n",
    "        * 如果是规律误差，那么需要补充\n",
    "    2. 对验证集和测试集：\n",
    "        * 通过统计每个错误标签类别来确定是否要修正"
   ]
  },
  {
   "cell_type": "markdown",
   "metadata": {},
   "source": []
  }
 ],
 "metadata": {
  "kernelspec": {
   "display_name": "Python 3",
   "language": "python",
   "name": "python3"
  },
  "language_info": {
   "codemirror_mode": {
    "name": "ipython",
    "version": 3
   },
   "file_extension": ".py",
   "mimetype": "text/x-python",
   "name": "python",
   "nbconvert_exporter": "python",
   "pygments_lexer": "ipython3",
   "version": "3.6.7"
  }
 },
 "nbformat": 4,
 "nbformat_minor": 2
}
