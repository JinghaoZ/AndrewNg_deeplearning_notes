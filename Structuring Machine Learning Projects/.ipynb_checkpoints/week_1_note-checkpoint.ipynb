{
 "cells": [
  {
   "cell_type": "markdown",
   "metadata": {},
   "source": [
    "### Introduction to Machine Learning Strategy"
   ]
  },
  {
   "cell_type": "markdown",
   "metadata": {},
   "source": [
    "1. Orthogonalization\n",
    "    1. 什么是正交化\n",
    "        * 如何去调整模型的参数使得效果最好\n",
    "    2. Chain of assumptions in ML\n",
    "        * Fit training set well on cost function (like human level)\n",
    "        * fit dev set well on cost function\n",
    "        * fit test set well on cost function\n",
    "        * performs well in real world"
   ]
  },
  {
   "cell_type": "markdown",
   "metadata": {},
   "source": [
    "2. Single number evaluation metric\n",
    "    1. precision and recall\n",
    "        * precision: TP/(TP + FP)\n",
    "        * recall: TP/(TP + FN)\n",
    "        * F1 score: 2PR / (P+R)"
   ]
  },
  {
   "cell_type": "markdown",
   "metadata": {},
   "source": [
    "3. Satisficing and optimizing metrics\n",
    "    1. Add running time to cost, for eg:  \n",
    "        maximize accuracy  \n",
    "        s.t. running time less than 100ms\n",
    "    2. limit the times (or frequency) of false positive, for eg:  \n",
    "        recognize \"Hey siri\"  \n",
    "        s.t. false positive 1 times per day\n",
    "    3. 在以上两种情况中， 准确度属于优化指标(optimizing metrics), 时长属于满足指标。模型的效果同时受控于两种指标。"
   ]
  },
  {
   "cell_type": "markdown",
   "metadata": {},
   "source": [
    "4. Set up training, dev and test set\n",
    "    1. 三种数据集应该属于同一分布\n",
    "        * shuffle\n",
    "    2. 数据集的规模\n",
    "        1. 小规模数据集：70%/30% or 60%/20%/20%\n",
    "        2. 大规模数据集：95%/5%\n",
    "    3. 改变数据集的场景\n",
    "        1. 当评估指标无法明确判断不同模型的优劣时，需要更换数据集或者评估指标\n",
    "            * 添加权重，对除了cost意外的指标赋予一定权重\n",
    "    4. 综合正则化和数据集，将一个项目划分为不同的阶段，第一阶段首先minimize cost，第二阶段考虑其他的指标。"
   ]
  },
  {
   "cell_type": "markdown",
   "metadata": {},
   "source": [
    "5. Human level performance\n",
    "    1. Baysian optimal error\n",
    "        * 最佳准确率很难达到100% 不会高于贝叶斯最佳误差\n",
    "    2. why compare to human-level performance\n",
    "        * get labeled data from humans\n",
    "        * gain insight from manual error analysis\n",
    "        * beeter analysis of bias/variance"
   ]
  },
  {
   "cell_type": "markdown",
   "metadata": {},
   "source": [
    "6. Improve model performance\n",
    "    1. 监督学习的两个基本假设\n",
    "        * 可以很好的训练集\n",
    "        * 泛化能力好\n",
    "    2. 减少可避免的bias和variance\n",
    "        * Human-level\n",
    "            1. 训练更大的模型\n",
    "            2. 更好的优化算法\n",
    "        * Training error\n",
    "            1. 使用神经网络\n",
    "            2. 超参数\n",
    "        * Dev error\n",
    "            1. 更多数据\n",
    "            2. 正则化"
   ]
  },
  {
   "cell_type": "code",
   "execution_count": null,
   "metadata": {},
   "outputs": [],
   "source": []
  }
 ],
 "metadata": {
  "kernelspec": {
   "display_name": "Python 3",
   "language": "python",
   "name": "python3"
  },
  "language_info": {
   "codemirror_mode": {
    "name": "ipython",
    "version": 3
   },
   "file_extension": ".py",
   "mimetype": "text/x-python",
   "name": "python",
   "nbconvert_exporter": "python",
   "pygments_lexer": "ipython3",
   "version": "3.6.7"
  }
 },
 "nbformat": 4,
 "nbformat_minor": 2
}
