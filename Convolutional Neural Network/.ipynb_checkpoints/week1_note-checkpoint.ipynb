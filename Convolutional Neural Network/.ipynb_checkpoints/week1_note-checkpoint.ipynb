{
 "cells": [
  {
   "cell_type": "markdown",
   "metadata": {},
   "source": [
    "### Convolutional Neural Network"
   ]
  },
  {
   "cell_type": "markdown",
   "metadata": {},
   "source": [
    "1. Vertical edge detection\n",
    "    1. 通过卷积可以进行边缘检测，如图\n",
    "        * <img src=\"edge_detect.png\" alt=\"drawing\" width=\"400\"/>\n",
    "    2. 同时，卷积后的结果可以表示边缘两侧的像素值的关系"
   ]
  },
  {
   "cell_type": "markdown",
   "metadata": {},
   "source": [
    "2. Padding\n",
    "    1. 假设输入图片大小为$n*n$, 卷积核大小为$f*f$\n",
    "        * 当不使用padding时，输出的大小为$(n-f+1) * (n-f+1)$, 这样做的缺点经过多次卷积，结果会越来越小，同时，由于中间的像素点会随着卷积核的移动而重叠，而边缘的像素点只会被采样一次，因而会丢失越来越多的像素点。\n",
    "        * 如果使用padding，可以先将$n*n$的图像扩展为$(n+p)*(n+p)$, 进而进行卷积，输出大小会变为$(n+2p-f+1) * (n+2p-f+1)$\n",
    "    2. 在tensorflow中，padding的方式分为两种\n",
    "        * valid : 不padding\n",
    "        * same: padding, 并且卷积后保持和原输入大小相同\n",
    "3. Strided Convolution\n",
    "    1. 步长表示卷积核每次移动的距离，步长的变化会导致输出大小的变化\n",
    "4. Convolution with RGB images\n",
    "    1. RGB有$n*n*3$个像素点，3表示通道数，对RGB做卷积时，卷积核也相应变为$f*f*3$\n",
    "    2. 输出的结果是3层卷积核卷积结果之和，输出为一层，例如 $6*6*3$的图像， 经过一个$3*3*3$的卷积核进行卷积，得到的是$4*4$的输出\n",
    "5. one-layer convolution\n",
    "    1. output = relu(conv(input, w) + bias)\n",
    "    2. 参数个数计算\n",
    "        * 每个卷积核有 $f*f*3$个参数\n",
    "        * 同时有1个bias参数\n",
    "        * 因此，m个卷积核合计有 $m*(f*f*3+1)$个参数\n",
    "    3. 如果layer l 是一个卷积层:\n",
    "        * filter size: $f^l$, padding: $p^l$, stride: $s^l$, number of filters: $n_c^l$\n",
    "        * Input: $n_h^{l-1} * n_w^{l-1} * n_c^{l-1}$\n",
    "        * Output: $n_h^{l} * n_w^{l} * n_c^{l}$\n",
    "        * 则， $n_h^{l} = \\frac{n_h^{l-1} + 2p^l -f^l}{s^l} + 1$, $n_w^{l} = \\frac{n_w^{l-1} + 2p^l -f^l}{s^l} + 1$\n",
    "        * weight = $f^l * f^l * n^{l-1}_c * n_c^l$ 表示w的size，其中前两位表示卷积核大小，第三位表示输入的通道数，第四位表示卷积核个数\n",
    "6. Examples\n",
    "    1. 一个CNN应该包括\n",
    "        * 输入->卷积->relu->池化(->卷积->relu->池化)->全连接->flatting->dropout->softmax/sigmoid"
   ]
  },
  {
   "cell_type": "code",
   "execution_count": null,
   "metadata": {},
   "outputs": [],
   "source": []
  }
 ],
 "metadata": {
  "kernelspec": {
   "display_name": "Python 3",
   "language": "python",
   "name": "python3"
  },
  "language_info": {
   "codemirror_mode": {
    "name": "ipython",
    "version": 3
   },
   "file_extension": ".py",
   "mimetype": "text/x-python",
   "name": "python",
   "nbconvert_exporter": "python",
   "pygments_lexer": "ipython3",
   "version": "3.6.8"
  }
 },
 "nbformat": 4,
 "nbformat_minor": 2
}
