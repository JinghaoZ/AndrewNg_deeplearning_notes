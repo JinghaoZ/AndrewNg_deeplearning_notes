{
 "cells": [
  {
   "cell_type": "markdown",
   "metadata": {},
   "source": [
    "### Deep Convolutional Neural Network"
   ]
  },
  {
   "cell_type": "markdown",
   "metadata": {},
   "source": [
    "1. Classical Network\n",
    "    1. LeNet-5\n",
    "        * input->conv(f=5, n=6, s=1)->avg pooling(f=2, s=2)->conv(f=5, n=16, s=1)->avg pool->fc->fc->y\n",
    "    2. AlexNet\n",
    "        * <img src=\"AlexNet.png\" width=\"600\">\n",
    "    3. VGG-16 Net\n",
    "        * <img src=\"VGG_16.png\" width=\"600\">"
   ]
  },
  {
   "cell_type": "markdown",
   "metadata": {},
   "source": [
    "3. Residual Network(ResNet)\n",
    "    1. Residual block\n",
    "        * <img src=\"ResNetBlock.png\" width=\"600\">\n",
    "        * $a^l$ 跳过1层或几层，称为(shortcut / skip) connection\n",
    "        * 上图情况下，有$a^{l+2} = g(z^{l+2} + a^l)$, z表示线性激活\n",
    "    2. ResNet structure\n",
    "        * <img src=\"resnet.png\" width=\"800\">\n",
    "4. Transfer Learning\n",
    "    1. 使用开源模型已经训练好的参数应用于自己的训练集，以替代随即初始化\n",
    "5. Data Augmentation\n",
    "    1. 常见的数据扩充方法\n",
    "        * 翻转: 将原图像按照水平或垂直对称\n",
    "        * 随机裁剪: 裁剪原图像一部分做为同类样本\n",
    "        * 旋转、平移\n",
    "        * 颜色变化"
   ]
  },
  {
   "cell_type": "code",
   "execution_count": null,
   "metadata": {},
   "outputs": [],
   "source": []
  }
 ],
 "metadata": {
  "kernelspec": {
   "display_name": "Python 3",
   "language": "python",
   "name": "python3"
  },
  "language_info": {
   "codemirror_mode": {
    "name": "ipython",
    "version": 3
   },
   "file_extension": ".py",
   "mimetype": "text/x-python",
   "name": "python",
   "nbconvert_exporter": "python",
   "pygments_lexer": "ipython3",
   "version": "3.6.8"
  }
 },
 "nbformat": 4,
 "nbformat_minor": 2
}
