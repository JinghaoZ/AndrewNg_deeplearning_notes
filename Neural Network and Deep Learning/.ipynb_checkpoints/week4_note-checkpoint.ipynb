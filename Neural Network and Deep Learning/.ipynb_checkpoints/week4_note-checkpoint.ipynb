{
 "cells": [
  {
   "cell_type": "markdown",
   "metadata": {},
   "source": [
    "### Deep Neural Networks"
   ]
  },
  {
   "cell_type": "markdown",
   "metadata": {},
   "source": [
    "1. Forward Propagation in a deep network\n",
    "    * same as one layer but each hidden layer has its z and activation function"
   ]
  },
  {
   "cell_type": "markdown",
   "metadata": {},
   "source": [
    "![deep nn](figures/deepnn.png)"
   ]
  },
  {
   "cell_type": "markdown",
   "metadata": {},
   "source": [
    "2. Matrix dimensions\n",
    "    1. 基本结构\n",
    "        * 输入样本的长度为2， 即$[n_0, 1]$矩阵\n",
    "        * 每层神经元个数$n^i$分别为3，5，4，2，1.\n",
    "    2. 例如$z^i = w^ix + b^i$\n",
    "        * b是一个[3, 1]矩阵， 即对每层的b，b是一个$[n^i, 1]$矩阵\n",
    "        * $z^1$是一个[3, 1]矩阵， 即$z^i$是一个$[n^i, 1]$矩阵\n",
    "        * 因此 $w^1$是一个[3, 2]矩阵，即$w^i$是一个$[n^{i}， n^{i-1}]$矩阵\n",
    "        * z^i 是第i层每个神经元的z组成的矩阵\n",
    "    3. 对于backward propagation\n",
    "        * $dw^i \\rightarrow [n^{i}, n^{i-1}]$\n",
    "        * $db^i \\rightarrow  [n^i, 1]$\n",
    "    4. 对所有样本\n",
    "        * $Z^i \\rightarrow [n^i, m]$\n",
    "        * $W^i \\rightarrow [n^i, n^0]$\n",
    "        * $X \\rightarrow [n^0, m]$\n",
    "        * $b \\rightarrow [n^i, m]$\n",
    "        * dZ, dA的维度和Z，A相同，其中A是激活函数的输出"
   ]
  },
  {
   "cell_type": "markdown",
   "metadata": {},
   "source": [
    "3. Build block of deep nn\n",
    "    * X->Relu->relu->sigmoid-yhat->loss->bp"
   ]
  },
  {
   "cell_type": "markdown",
   "metadata": {},
   "source": [
    "4. Parameters and Hyperparameters\n",
    "    * Parameters : w and b\n",
    "    * hyperparameters: \n",
    "        1. learning rate, \n",
    "        2. iterations, \n",
    "        3. number of hidden layer, units..so on\n",
    "        4. tanh, relu, etc\n",
    "    * 超参数是控制参数效果的因素之一"
   ]
  },
  {
   "cell_type": "code",
   "execution_count": null,
   "metadata": {},
   "outputs": [],
   "source": [
    "    "
   ]
  }
 ],
 "metadata": {
  "kernelspec": {
   "display_name": "Python 3",
   "language": "python",
   "name": "python3"
  },
  "language_info": {
   "codemirror_mode": {
    "name": "ipython",
    "version": 3
   },
   "file_extension": ".py",
   "mimetype": "text/x-python",
   "name": "python",
   "nbconvert_exporter": "python",
   "pygments_lexer": "ipython3",
   "version": "3.6.7"
  }
 },
 "nbformat": 4,
 "nbformat_minor": 2
}
